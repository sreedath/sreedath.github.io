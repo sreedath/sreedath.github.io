{
 "cells": [
  {
   "cell_type": "markdown",
   "id": "adcbbdb9-19bb-4e4d-9be4-58426c3edd59",
   "metadata": {},
   "source": [
    "### Question 1: Write a while loop that prints numbers from 10 to 50."
   ]
  },
  {
   "cell_type": "code",
   "execution_count": null,
   "id": "2e59f2e0-21bb-4050-beb8-831a3463b711",
   "metadata": {},
   "outputs": [],
   "source": [
    "# Write your code here\n",
    "\n"
   ]
  },
  {
   "cell_type": "markdown",
   "id": "b668024f-2d1d-4cbe-8751-5f248be5213f",
   "metadata": {},
   "source": [
    "### Question 2: Write a while loop that prints even numbers from 2 to 10."
   ]
  },
  {
   "cell_type": "code",
   "execution_count": null,
   "id": "a4f573e4-9862-4b86-9bd7-1a48455daa67",
   "metadata": {},
   "outputs": [],
   "source": [
    "# Write your code here\n",
    "\n"
   ]
  },
  {
   "cell_type": "markdown",
   "id": "3bc19a70-6a6d-4180-8c92-384e80c04ef4",
   "metadata": {},
   "source": [
    "### Question 3: Write a while loop that calculates the sum of all numbers from 100 to 200."
   ]
  },
  {
   "cell_type": "code",
   "execution_count": null,
   "id": "d98c3cb0-8845-4982-a032-2f44ddff4f38",
   "metadata": {},
   "outputs": [],
   "source": [
    "# Write your code here\n",
    "\n"
   ]
  },
  {
   "cell_type": "markdown",
   "id": "f95a6e9b-91b8-4d73-b875-4edaddaf68b2",
   "metadata": {},
   "source": [
    "### Question 4: Write a while loop that calculates the average of numbers entered by the user. Terminate when the user enters -1."
   ]
  },
  {
   "cell_type": "code",
   "execution_count": null,
   "id": "46000708-7210-4b17-81f8-caa14a4f63a2",
   "metadata": {},
   "outputs": [],
   "source": [
    "# Write your code here\n",
    "\n"
   ]
  },
  {
   "cell_type": "markdown",
   "id": "c2a4962b-3279-4504-b7b3-1a9f99ab72d4",
   "metadata": {},
   "source": [
    "### Question 5: Write a for loop that prints numbers from 10 to 1 in descending order."
   ]
  },
  {
   "cell_type": "code",
   "execution_count": null,
   "id": "ad675e4b-72bb-4425-ab15-7b5bfdf46f9e",
   "metadata": {},
   "outputs": [],
   "source": [
    "# Write your code here\n",
    "\n"
   ]
  },
  {
   "cell_type": "markdown",
   "id": "be1a83ae-553d-4f7f-8430-234b0c851cbb",
   "metadata": {},
   "source": [
    "### Question 6: Write a for loop that calculates the sum of all odd numbers from 10 to 30."
   ]
  },
  {
   "cell_type": "code",
   "execution_count": null,
   "id": "01ffc251-4bca-40da-af4a-5d9d4cdf43d2",
   "metadata": {},
   "outputs": [],
   "source": [
    "# Write your code here\n",
    "\n"
   ]
  },
  {
   "cell_type": "markdown",
   "id": "1aa71f56-fdfe-49d2-979f-df8187df491a",
   "metadata": {},
   "source": [
    "### Question 7: Write a for loop that prints the multiplication table of n = 5 up to 10 (i.e., 5 * 1, 5 * 2, ..., 5 * 10)."
   ]
  },
  {
   "cell_type": "code",
   "execution_count": null,
   "id": "1af23f92-c7af-4f97-8f2e-f2f71aaae2af",
   "metadata": {},
   "outputs": [],
   "source": [
    "# Write your code here\n",
    "\n"
   ]
  },
  {
   "cell_type": "markdown",
   "id": "35f5bff1-b6fd-4d57-9254-8f32905f21c1",
   "metadata": {},
   "source": [
    "### Question 8: Write a for loop that prints the square of each number in a list [1, 2, 3, 4, 5]."
   ]
  },
  {
   "cell_type": "code",
   "execution_count": null,
   "id": "33712633-0ecf-4877-8f3f-e53479afe340",
   "metadata": {},
   "outputs": [],
   "source": [
    "# Write your code here\n",
    "\n"
   ]
  },
  {
   "cell_type": "markdown",
   "id": "d8b49273-5846-441e-a25c-484a6d210974",
   "metadata": {},
   "source": [
    "### Question 9: Write a for loop that calculates the average of numbers in a list [10, 20, 30, 40, 50]."
   ]
  },
  {
   "cell_type": "code",
   "execution_count": null,
   "id": "5a6d3f73-bb08-47bf-8205-cf3735723a2e",
   "metadata": {},
   "outputs": [],
   "source": [
    "# Write your code here\n",
    "\n"
   ]
  }
 ],
 "metadata": {
  "kernelspec": {
   "display_name": "Python 3 (ipykernel)",
   "language": "python",
   "name": "python3"
  },
  "language_info": {
   "codemirror_mode": {
    "name": "ipython",
    "version": 3
   },
   "file_extension": ".py",
   "mimetype": "text/x-python",
   "name": "python",
   "nbconvert_exporter": "python",
   "pygments_lexer": "ipython3",
   "version": "3.12.3"
  }
 },
 "nbformat": 4,
 "nbformat_minor": 5
}
