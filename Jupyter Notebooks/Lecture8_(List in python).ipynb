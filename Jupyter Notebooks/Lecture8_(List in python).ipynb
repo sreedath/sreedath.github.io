{
 "cells": [
  {
   "cell_type": "markdown",
   "id": "1bf3f4de-bd0d-4a8a-b2a9-0e815095fcf4",
   "metadata": {},
   "source": [
    "### Question 1: Create a list `numbers` containing integers [10, 20, 30, 40, 50]."
   ]
  },
  {
   "cell_type": "code",
   "execution_count": null,
   "id": "7797001e-243a-4d2d-861e-413137bd1237",
   "metadata": {},
   "outputs": [],
   "source": [
    "# Write your code here\n",
    "\n"
   ]
  },
  {
   "cell_type": "markdown",
   "id": "fe1e00ad-7efe-440b-87b5-0bd4f070052b",
   "metadata": {},
   "source": [
    "### Question 1: Access and print the third element of the list `numbers`."
   ]
  },
  {
   "cell_type": "code",
   "execution_count": null,
   "id": "9837acf7-e331-4e7a-a48e-5af4487d7048",
   "metadata": {},
   "outputs": [],
   "source": [
    "# Write your code here\n",
    "\n"
   ]
  },
  {
   "cell_type": "markdown",
   "id": "2be89dba-ea01-421f-b0fb-90a8dd9a0467",
   "metadata": {},
   "source": [
    "### Question 2: Print the elements from the second to the forth position using negative indexing."
   ]
  },
  {
   "cell_type": "code",
   "execution_count": null,
   "id": "5de1319e-8a0d-4e34-9bcb-209719429bf8",
   "metadata": {},
   "outputs": [],
   "source": [
    "# Write your code here\n",
    "\n"
   ]
  },
  {
   "cell_type": "markdown",
   "id": "ff094624-f3b9-42c7-b102-839904accf2c",
   "metadata": {},
   "source": [
    "### Question 3: Print the lenth of this list `numbers`"
   ]
  },
  {
   "cell_type": "code",
   "execution_count": null,
   "id": "d8768903-dc42-4d22-a6fd-21ff3bdf7ac6",
   "metadata": {},
   "outputs": [],
   "source": [
    "# Write your code here\n",
    "\n"
   ]
  },
  {
   "cell_type": "markdown",
   "id": "1d4b6879-7f4d-4145-92fe-6800854d7589",
   "metadata": {},
   "source": [
    "### Question 4: Replace the second element of the list `numbers` with 21.\n"
   ]
  },
  {
   "cell_type": "code",
   "execution_count": null,
   "id": "87850b41-e6e5-45d7-9d33-736155bbf35a",
   "metadata": {},
   "outputs": [],
   "source": [
    "# Write your code here\n",
    "\n"
   ]
  },
  {
   "cell_type": "markdown",
   "id": "35a8afb0-9a30-456d-8bea-1fdb08961beb",
   "metadata": {},
   "source": [
    "### Question 5: Append the number 6 to the end of the list `numbers`."
   ]
  },
  {
   "cell_type": "code",
   "execution_count": null,
   "id": "b80ba6de-fdee-42d7-bf6a-009d0ba49c90",
   "metadata": {},
   "outputs": [],
   "source": [
    "# Write your code here\n",
    "\n"
   ]
  },
  {
   "cell_type": "markdown",
   "id": "7a1418be-b90a-4fe0-acc6-18f4c6522393",
   "metadata": {},
   "source": [
    "### Question 6: Remove the last element from the list `numbers`."
   ]
  },
  {
   "cell_type": "code",
   "execution_count": null,
   "id": "5256d940-ac1e-4025-90a6-180af4636046",
   "metadata": {},
   "outputs": [],
   "source": [
    "# Write your code here\n",
    "\n"
   ]
  },
  {
   "cell_type": "markdown",
   "id": "b2e99469-040a-47f9-a946-b6441a95d2a9",
   "metadata": {},
   "source": [
    "### Question 7: Sort the list numbers in ascending order and print it."
   ]
  },
  {
   "cell_type": "code",
   "execution_count": null,
   "id": "1c937e83-159f-44aa-ba90-ae00ba245a18",
   "metadata": {},
   "outputs": [],
   "source": [
    "# Write your code here\n",
    "\n"
   ]
  },
  {
   "cell_type": "markdown",
   "id": "2864b97c-a314-4a44-9abb-0cbc7269e622",
   "metadata": {},
   "source": [
    "### Question 8: Calculate the sum of all elements in the list `numbers`."
   ]
  },
  {
   "cell_type": "code",
   "execution_count": null,
   "id": "b801594d-425f-4dff-920b-e7071a7ddbb5",
   "metadata": {},
   "outputs": [],
   "source": [
    "# Write your code here\n",
    "\n"
   ]
  },
  {
   "cell_type": "markdown",
   "id": "927ba9bc-231d-44a6-bb74-89a1c4777dd1",
   "metadata": {},
   "source": [
    "### Question 9: Insert the number 7 at index 2 in the list numbers."
   ]
  },
  {
   "cell_type": "code",
   "execution_count": null,
   "id": "d1e7de33-37b3-4d98-9ee1-5fe05d6849a9",
   "metadata": {},
   "outputs": [],
   "source": [
    "# Write your code here\n",
    "\n"
   ]
  },
  {
   "cell_type": "markdown",
   "id": "a322e7d6-027f-434b-b206-554249faae39",
   "metadata": {},
   "source": [
    "### Question 10: Concatenate two lists `list1 = [1, 2, 3]` and `list2 = [4, 5, 6].`"
   ]
  },
  {
   "cell_type": "code",
   "execution_count": null,
   "id": "f65298a8-5584-4861-b1a1-c190dceb3953",
   "metadata": {},
   "outputs": [],
   "source": [
    "# Write your code here\n",
    "\n"
   ]
  }
 ],
 "metadata": {
  "kernelspec": {
   "display_name": "Python 3 (ipykernel)",
   "language": "python",
   "name": "python3"
  },
  "language_info": {
   "codemirror_mode": {
    "name": "ipython",
    "version": 3
   },
   "file_extension": ".py",
   "mimetype": "text/x-python",
   "name": "python",
   "nbconvert_exporter": "python",
   "pygments_lexer": "ipython3",
   "version": "3.12.3"
  }
 },
 "nbformat": 4,
 "nbformat_minor": 5
}
