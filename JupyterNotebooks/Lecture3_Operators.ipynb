{
 "cells": [
  {
   "cell_type": "markdown",
   "id": "b63c98fe-572e-4eda-92b6-9d3ffac05704",
   "metadata": {},
   "source": [
    "### Question 1: Perform addition of two numbers a = 10 and b = 5. Print the result."
   ]
  },
  {
   "cell_type": "code",
   "execution_count": null,
   "id": "22b2eee4-a489-4a62-91f1-178a8e4d987c",
   "metadata": {},
   "outputs": [],
   "source": [
    "#Write your code here\n",
    "\n"
   ]
  },
  {
   "cell_type": "markdown",
   "id": "d6525236-1974-4f7c-b5a3-18676615708e",
   "metadata": {},
   "source": [
    "### Question 2: Perform subtraction of two numbers a = 15 and b = 7. Print the result."
   ]
  },
  {
   "cell_type": "code",
   "execution_count": null,
   "id": "e5079392-609a-48f7-9463-73b75d830b1f",
   "metadata": {},
   "outputs": [],
   "source": [
    "#Write your code here\n",
    "\n"
   ]
  },
  {
   "cell_type": "markdown",
   "id": "d9e9bfe3-dde0-4bdc-8450-8f96432d1f35",
   "metadata": {},
   "source": [
    "### Question 3: Perform multiplication of two numbers a = 4 and b = 6. Print the result."
   ]
  },
  {
   "cell_type": "code",
   "execution_count": null,
   "id": "c1c60ece-f888-4280-b4c7-c98ea6c20bc8",
   "metadata": {},
   "outputs": [],
   "source": [
    "#Write your code here\n",
    "\n"
   ]
  },
  {
   "cell_type": "markdown",
   "id": "27a536d7-cbf0-491b-9506-4f1454ffab7e",
   "metadata": {},
   "source": [
    "### Question 4: Perform division of two numbers a = 20 and b = 4. Print the result."
   ]
  },
  {
   "cell_type": "code",
   "execution_count": null,
   "id": "52fbb1de-7447-4c6e-89f6-57007aaf09fc",
   "metadata": {},
   "outputs": [],
   "source": [
    "#Write your code here\n",
    "\n"
   ]
  },
  {
   "cell_type": "markdown",
   "id": "1f267724-8c96-4e77-a2a3-793ccabfb030",
   "metadata": {},
   "source": [
    "### Question 5: Calculate the remainder when a = 20 is divided by b = 3. Print the result."
   ]
  },
  {
   "cell_type": "code",
   "execution_count": null,
   "id": "d2c25374-bbf4-47fe-94fd-d82fec34ac20",
   "metadata": {},
   "outputs": [],
   "source": [
    "#Write your code here\n",
    "\n"
   ]
  },
  {
   "cell_type": "markdown",
   "id": "34f60472-073c-4ace-8260-5dd7281ab9a1",
   "metadata": {},
   "source": [
    "### Question 6: Compare if a = 10 is equal to b = 10. Print the result."
   ]
  },
  {
   "cell_type": "code",
   "execution_count": null,
   "id": "8a85504e-e11e-47d6-9103-86e96961cd88",
   "metadata": {},
   "outputs": [],
   "source": [
    "#Write your code here\n",
    "\n"
   ]
  },
  {
   "cell_type": "markdown",
   "id": "c966d384-4601-4dfd-9f59-74084af7818a",
   "metadata": {},
   "source": [
    "### Question 7: Check if a = 20 is greater than b = 15. Print the result."
   ]
  },
  {
   "cell_type": "code",
   "execution_count": null,
   "id": "46659e40-e739-4518-be27-e2f71f9560fb",
   "metadata": {},
   "outputs": [],
   "source": [
    "#Write your code here\n",
    "\n"
   ]
  },
  {
   "cell_type": "markdown",
   "id": "035cc07c-c8f2-472b-b601-d65f22855a22",
   "metadata": {},
   "source": [
    "### Question 8: Check if both a = True and b = False are true using the `and` operator. Print the result."
   ]
  },
  {
   "cell_type": "code",
   "execution_count": null,
   "id": "c4a8e87e-bc33-4fcd-af28-08d7a3dd9a80",
   "metadata": {},
   "outputs": [],
   "source": [
    "#Write your code here\n",
    "\n"
   ]
  },
  {
   "cell_type": "markdown",
   "id": "30792d2d-e8b6-4353-973c-403352f4e9f3",
   "metadata": {},
   "source": [
    "### Question 9: Check if either a = True or b = False is true using the `or` operator. Print the result."
   ]
  },
  {
   "cell_type": "code",
   "execution_count": null,
   "id": "d1af08d4-4845-4464-ac12-8f69a72b6a33",
   "metadata": {},
   "outputs": [],
   "source": [
    "#Write your code here\n",
    "\n"
   ]
  },
  {
   "cell_type": "markdown",
   "id": "09030ffb-2c86-4343-a734-b933ffef0e11",
   "metadata": {},
   "source": [
    "### Question 10: Assign the value 10 to variable `a` using the assignment operator(=)."
   ]
  },
  {
   "cell_type": "code",
   "execution_count": null,
   "id": "59a1347a-1ae8-424a-bbec-29cd2f138662",
   "metadata": {},
   "outputs": [],
   "source": [
    "#Write your code here\n",
    "\n"
   ]
  },
  {
   "cell_type": "markdown",
   "id": "e8d4a8da-abd2-4243-ab8e-3e8e056b5aaf",
   "metadata": {},
   "source": [
    "### Question 11: Add 5 to variable `a` using the `+=` operator. Print the updated value of `a`."
   ]
  },
  {
   "cell_type": "code",
   "execution_count": null,
   "id": "cc55583e-f267-4042-9263-23836bc08b4b",
   "metadata": {},
   "outputs": [],
   "source": [
    "#Write your code here\n",
    "\n"
   ]
  },
  {
   "cell_type": "markdown",
   "id": "a0759b83-8252-4909-9813-ffe06f04d382",
   "metadata": {},
   "source": [
    "### Question 12: Subtract 3 from variable `a` using the -= operator. Print the updated value of `a`."
   ]
  },
  {
   "cell_type": "code",
   "execution_count": null,
   "id": "ad65931d-ed26-42fc-a789-e8cc3f7b6839",
   "metadata": {},
   "outputs": [],
   "source": [
    "#Write your code here\n",
    "\n"
   ]
  },
  {
   "cell_type": "markdown",
   "id": "694f4fec-3822-4cb3-b66a-ad59b910df0b",
   "metadata": {},
   "source": [
    "### Question 13: Evaluate if a = 10 is less than b = 15 and b is greater than c = 5. Print the result.\n"
   ]
  },
  {
   "cell_type": "code",
   "execution_count": null,
   "id": "37e6126c-00b4-483f-9932-9bfbbe6c8bcc",
   "metadata": {},
   "outputs": [],
   "source": [
    "#Write your code here\n",
    "\n"
   ]
  }
 ],
 "metadata": {
  "kernelspec": {
   "display_name": "Python 3 (ipykernel)",
   "language": "python",
   "name": "python3"
  },
  "language_info": {
   "codemirror_mode": {
    "name": "ipython",
    "version": 3
   },
   "file_extension": ".py",
   "mimetype": "text/x-python",
   "name": "python",
   "nbconvert_exporter": "python",
   "pygments_lexer": "ipython3",
   "version": "3.12.3"
  }
 },
 "nbformat": 4,
 "nbformat_minor": 5
}
