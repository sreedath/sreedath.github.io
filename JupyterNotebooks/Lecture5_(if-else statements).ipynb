{
 "cells": [
  {
   "cell_type": "markdown",
   "id": "2aa24ce1-f83e-40a2-b7ea-35654e78261e",
   "metadata": {},
   "source": [
    "### Question 1: Write an if-else statement to check if `age = 18`. If true, print \"You are eligible to vote\", otherwise print \"You are not eligible to vote\"."
   ]
  },
  {
   "cell_type": "code",
   "execution_count": null,
   "id": "af6d9c6f-5c35-4279-bc5d-8f717f3f8296",
   "metadata": {},
   "outputs": [],
   "source": [
    "# Write your programme here\n",
    "\n"
   ]
  },
  {
   "cell_type": "markdown",
   "id": "7f56e10f-f018-4b5a-b620-4ae714412de0",
   "metadata": {},
   "source": [
    "### Question 2: Given `marks = 75`, write an if-else statement to print \"Pass\" if `marks` is greater than or equal to 50, otherwise print \"Fail\"."
   ]
  },
  {
   "cell_type": "code",
   "execution_count": null,
   "id": "e2462321-1ad6-40f1-a3f9-7ea75057b04e",
   "metadata": {},
   "outputs": [],
   "source": [
    "# Write your programme here\n",
    "\n"
   ]
  },
  {
   "cell_type": "markdown",
   "id": "7166243f-83a9-4489-9429-506eac54e20d",
   "metadata": {},
   "source": [
    "### Question 3: Write an if-else statement to determine if `temperature = 25`. If `temperature` is less than 30, print \"It's a cool day\", otherwise print \"It's a hot day\"."
   ]
  },
  {
   "cell_type": "code",
   "execution_count": null,
   "id": "13a2baeb-45f9-42ac-b0a5-1c0d595f34a2",
   "metadata": {},
   "outputs": [],
   "source": [
    "# Write your programme here\n",
    "\n"
   ]
  },
  {
   "cell_type": "markdown",
   "id": "744b03bd-9bda-43ae-89a1-ffd641f0604e",
   "metadata": {},
   "source": [
    "### Question 4: Given `num = 7`, write an if-else statement to check if `num` is even or odd. Print \"Even\" if `num` is even, otherwise print \"Odd\"."
   ]
  },
  {
   "cell_type": "code",
   "execution_count": null,
   "id": "e19a3e5c-422d-459d-bf7c-b2fcfba4ecfb",
   "metadata": {},
   "outputs": [],
   "source": [
    "# Write your programme here\n",
    "\n"
   ]
  },
  {
   "cell_type": "markdown",
   "id": "5e1eedf1-f7c8-4f10-88db-7dfccd3e9d00",
   "metadata": {},
   "source": [
    "### Question 5: Write an if-else statement to check if `num = 40` is divisible by `8` or not."
   ]
  },
  {
   "cell_type": "code",
   "execution_count": null,
   "id": "ca986526-aa75-4c14-80bf-d8d038821186",
   "metadata": {},
   "outputs": [],
   "source": [
    "# Write your programme here\n",
    "\n"
   ]
  },
  {
   "cell_type": "markdown",
   "id": "2b50ae72-71af-42fa-a0a6-fedb729d86e6",
   "metadata": {},
   "source": [
    "### Question 6: Write an if-elif-else statement to check if a number `num = 24` is divisible by `3`, `5`, `both`, or `neither`"
   ]
  },
  {
   "cell_type": "code",
   "execution_count": null,
   "id": "61beeb20-1605-48e1-8f6a-e73b80a8df79",
   "metadata": {},
   "outputs": [],
   "source": [
    "# Write your programme here\n",
    "\n"
   ]
  },
  {
   "cell_type": "markdown",
   "id": "08043267-f6c7-4039-813c-bdbadb45f500",
   "metadata": {},
   "source": [
    "### Question 7: Write an if-elif-else statement to determine the largest number among a = 10, b = 15, and c = 12. Print the largest number."
   ]
  },
  {
   "cell_type": "code",
   "execution_count": null,
   "id": "c4e1e555-4f4f-4307-83a6-9b6839c8cb56",
   "metadata": {},
   "outputs": [],
   "source": [
    "# Write your programme here\n",
    "\n"
   ]
  },
  {
   "cell_type": "markdown",
   "id": "a877bcec-9ffb-4066-bea4-b3e746aab2a0",
   "metadata": {},
   "source": [
    "### Question 8: Write an if-elif-else statement to determine if a given year `year = 2024` is a leap year. Print \"Leap year\" if it is a leap year, \"Not a leap year\" if it is not, and \"Invalid input\" if year is less than 0."
   ]
  },
  {
   "cell_type": "code",
   "execution_count": null,
   "id": "8a8ce66d-9fe5-46fc-80d2-d20555c0af2f",
   "metadata": {},
   "outputs": [],
   "source": [
    "# Write your programme here\n",
    "\n"
   ]
  },
  {
   "cell_type": "markdown",
   "id": "9af0e264-902a-4695-b741-731a2019edee",
   "metadata": {},
   "source": [
    "### Question 9: Write an if-elif-else statement to determine the grade category based on a student's grade = 85:\n",
    "- \"Excellent\" if grade is greater than or equal to 90.\n",
    "- \"Good\" if grade is between 80 and 89.\n",
    "- \"Needs Improvement\" if grade is less than 80.\n",
    "- Print the corresponding category."
   ]
  },
  {
   "cell_type": "code",
   "execution_count": null,
   "id": "05d69533-d639-4109-888a-0bd915105b92",
   "metadata": {},
   "outputs": [],
   "source": [
    "# Write your programme here\n",
    "\n"
   ]
  },
  {
   "cell_type": "markdown",
   "id": "cbdff89f-5c86-43c7-acbc-ca724e4a8d6d",
   "metadata": {},
   "source": [
    "### Question 10: Given income = 50000, write an if-elif-else statement to determine the tax rate based on income:\n",
    "\n",
    "- If income is less than 30000, tax rate is 10%.\n",
    "- If income is between 30000 and 70000, tax rate is 20%.\n",
    "- If income is greater than or equal to 70000, tax rate is 30%.\n",
    "Print the tax rate applicable."
   ]
  },
  {
   "cell_type": "code",
   "execution_count": null,
   "id": "6cdd9cc0-637a-4f6d-af2f-e4eb8486f342",
   "metadata": {},
   "outputs": [],
   "source": [
    "# Write your programme here\n",
    "\n"
   ]
  }
 ],
 "metadata": {
  "kernelspec": {
   "display_name": "Python 3 (ipykernel)",
   "language": "python",
   "name": "python3"
  },
  "language_info": {
   "codemirror_mode": {
    "name": "ipython",
    "version": 3
   },
   "file_extension": ".py",
   "mimetype": "text/x-python",
   "name": "python",
   "nbconvert_exporter": "python",
   "pygments_lexer": "ipython3",
   "version": "3.12.3"
  }
 },
 "nbformat": 4,
 "nbformat_minor": 5
}
