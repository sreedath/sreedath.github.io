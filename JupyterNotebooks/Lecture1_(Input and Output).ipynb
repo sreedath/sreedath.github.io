{
 "cells": [
  {
   "cell_type": "markdown",
   "id": "90a2fa33-0e6d-467e-9673-3e75d64d6e5e",
   "metadata": {},
   "source": [
    "### Exercise 1: Print your name\n",
    "Write a Python program to print your name."
   ]
  },
  {
   "cell_type": "code",
   "execution_count": 1,
   "id": "e304a32e-a932-4f01-8c0b-79109496caec",
   "metadata": {},
   "outputs": [],
   "source": [
    "# Write your code here\n",
    "\n"
   ]
  },
  {
   "cell_type": "markdown",
   "id": "d25615f6-bfe4-45e0-a881-fcb458fa200c",
   "metadata": {},
   "source": [
    "### Exercise 2: Print your age\n",
    "Write a Python program to print your age."
   ]
  },
  {
   "cell_type": "code",
   "execution_count": 2,
   "id": "8b2ad2b9-7fcc-40ec-beef-7e50437d9f86",
   "metadata": {},
   "outputs": [],
   "source": [
    "# Write your code here\n",
    "\n"
   ]
  },
  {
   "cell_type": "markdown",
   "id": "98abeb33-b612-4b89-b06c-1d44763ab24d",
   "metadata": {},
   "source": [
    "### Exercise 3: Print a favorite quote\n",
    "Write a Python program to print your favorite quote."
   ]
  },
  {
   "cell_type": "code",
   "execution_count": 2,
   "id": "98a21680-5515-4321-8440-b2137adc5e6e",
   "metadata": {},
   "outputs": [],
   "source": [
    "# Write your code here\n",
    "\n"
   ]
  },
  {
   "cell_type": "markdown",
   "id": "1793dd91-151a-4e39-883a-3079130fea07",
   "metadata": {},
   "source": [
    "### Exercise 4: Take name as input and print it\n",
    "Write a Python program that takes the user's name as input and then prints `Hello, <name>!`."
   ]
  },
  {
   "cell_type": "markdown",
   "id": "802f5ff6-68a7-42c3-8974-0349c23458c7",
   "metadata": {},
   "source": [
    "Hint: Use the `input()` function to take input from the user."
   ]
  },
  {
   "cell_type": "code",
   "execution_count": 2,
   "id": "a5c8145f-14e6-47d7-ae15-a41e5bcde9ab",
   "metadata": {},
   "outputs": [],
   "source": [
    "# Write your code here\n",
    "\n"
   ]
  },
  {
   "cell_type": "markdown",
   "id": "d95d847e-9d60-4753-b677-2c2b19024523",
   "metadata": {},
   "source": [
    "### Exercise 5: Take favorite food as input and print it\n",
    "Write a Python program that takes the user's favorite food as input and then prints `Your favorite food is <food>.`"
   ]
  },
  {
   "cell_type": "code",
   "execution_count": 2,
   "id": "2259dd92-414c-4b9c-b39b-4a503fe50948",
   "metadata": {},
   "outputs": [],
   "source": [
    "# Write your code here\n",
    "\n"
   ]
  },
  {
   "cell_type": "markdown",
   "id": "e35fe6c1-4dc3-463a-b296-75efef6a439d",
   "metadata": {},
   "source": [
    "### Exercise 6: Take a number as input and print its square\n",
    "Write a Python program that takes a number as input from the user and then prints `The square of <number> is <square>.`\n",
    "\n",
    "Hint: Convert input string to integer using `int()` function"
   ]
  },
  {
   "cell_type": "code",
   "execution_count": 2,
   "id": "d05cce29-1744-437b-aec2-ef8e025ef344",
   "metadata": {},
   "outputs": [],
   "source": [
    "# Write your code here\n",
    "\n"
   ]
  },
  {
   "cell_type": "markdown",
   "id": "57b1c5ed-ae48-4a59-8e82-bd2e7d605edd",
   "metadata": {},
   "source": [
    "### Exercise 7: Take two numbers as input and print their product\n",
    "Write a Python program that takes two numbers as input from the user and then prints `The product of <number1> and <number2> is <product>.`"
   ]
  },
  {
   "cell_type": "code",
   "execution_count": 2,
   "id": "cfce5758-b500-4767-8e3b-63be86899f1f",
   "metadata": {},
   "outputs": [],
   "source": [
    "# Write your code here\n",
    "\n"
   ]
  }
 ],
 "metadata": {
  "kernelspec": {
   "display_name": "Python 3 (ipykernel)",
   "language": "python",
   "name": "python3"
  },
  "language_info": {
   "codemirror_mode": {
    "name": "ipython",
    "version": 3
   },
   "file_extension": ".py",
   "mimetype": "text/x-python",
   "name": "python",
   "nbconvert_exporter": "python",
   "pygments_lexer": "ipython3",
   "version": "3.12.3"
  }
 },
 "nbformat": 4,
 "nbformat_minor": 5
}
