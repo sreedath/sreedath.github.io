{
 "cells": [
  {
   "cell_type": "markdown",
   "id": "3bf1c090-dd6a-4b78-83cf-7d453bc6dcd1",
   "metadata": {},
   "source": [
    "### Question 1: Define a variable named `age` and assign it the value 15."
   ]
  },
  {
   "cell_type": "code",
   "execution_count": 5,
   "id": "db597795-c1a6-43d3-9d43-82f3e31bd75a",
   "metadata": {},
   "outputs": [],
   "source": [
    "# Write your code here \n",
    "\n"
   ]
  },
  {
   "cell_type": "markdown",
   "id": "8ee561dc-ba69-4121-a086-3f0ea26e4761",
   "metadata": {},
   "source": [
    "### Question 2: What data type is the variable `name` if it stores the value \"Alice\"? Print the type of `name` variable."
   ]
  },
  {
   "cell_type": "code",
   "execution_count": 6,
   "id": "9c53bb6c-e072-40b8-9a39-75ffb6bc86a2",
   "metadata": {},
   "outputs": [],
   "source": [
    "# Write your code here \n",
    "\n"
   ]
  },
  {
   "cell_type": "markdown",
   "id": "b41b8a6e-59f9-440b-9171-691a4489daa1",
   "metadata": {},
   "source": [
    "### Question 3: Define a variable `height` with a float value of 5.9."
   ]
  },
  {
   "cell_type": "code",
   "execution_count": 7,
   "id": "9858e82b-f78e-48e9-b70f-dce7d77605de",
   "metadata": {},
   "outputs": [],
   "source": [
    "# Write your code here\n",
    "\n"
   ]
  },
  {
   "cell_type": "markdown",
   "id": "157f3055-543e-49a9-b11f-486a6b26f7d7",
   "metadata": {},
   "source": [
    "### Question 4: Convert a string `\"25\"` into an integer and print the type of it."
   ]
  },
  {
   "cell_type": "code",
   "execution_count": 8,
   "id": "f98588df-caba-41a7-8f6f-a4256cacb0a2",
   "metadata": {},
   "outputs": [],
   "source": [
    "# Write your code here\n",
    "\n"
   ]
  },
  {
   "cell_type": "markdown",
   "id": "9f2d1b64-bd70-45e3-a623-56f0220eaaec",
   "metadata": {},
   "source": [
    "### Question 5: Create a variable `grades` and assign it a list of integers `[85, 90, 92, 88, 95]`."
   ]
  },
  {
   "cell_type": "code",
   "execution_count": 9,
   "id": "0901965a-6beb-49c5-b4a8-f8a8797a77af",
   "metadata": {},
   "outputs": [],
   "source": [
    "# Write your code here\n",
    "\n"
   ]
  },
  {
   "cell_type": "markdown",
   "id": "e17bf2fd-2c6b-4866-9a86-f6eb38f81f0d",
   "metadata": {},
   "source": [
    "### Question 6: Create two variables `var1 = '123'` and `var2 = 123`. Print the result of `var1 == var2`"
   ]
  },
  {
   "cell_type": "code",
   "execution_count": 10,
   "id": "3bfc6675-6ec5-4a2d-8dd6-a99fb134b6c4",
   "metadata": {},
   "outputs": [],
   "source": [
    "# Write your code here \n",
    "\n"
   ]
  },
  {
   "cell_type": "markdown",
   "id": "6785363f-fbc7-4907-818b-2a4b248dd4e5",
   "metadata": {},
   "source": [
    "### Question 7: Create a list named `fruits` containing strings \"apple\", \"banana\", and \"cherry\". Print the list and check its data type."
   ]
  },
  {
   "cell_type": "code",
   "execution_count": 11,
   "id": "bc1568ad-1e73-4ede-8039-32cfff2d8dac",
   "metadata": {},
   "outputs": [],
   "source": [
    "# Write your code here\n",
    "\n"
   ]
  },
  {
   "cell_type": "markdown",
   "id": "f27ed880-785b-4fed-979d-1719b560014e",
   "metadata": {},
   "source": [
    "### Question 8: Create a tuple named `colors` containing strings \"red\", \"green\", and \"blue\". Print the tuple and check its data type."
   ]
  },
  {
   "cell_type": "code",
   "execution_count": 12,
   "id": "db746c09-5b7e-4642-90d6-02b3a92c210e",
   "metadata": {},
   "outputs": [],
   "source": [
    "# Write your code here \n",
    "\n"
   ]
  },
  {
   "cell_type": "markdown",
   "id": "fc1d8c04-14f5-4711-9153-93ee6361fe04",
   "metadata": {},
   "source": [
    "### Question 9: Create a set named `countries` containing strings \"USA\", \"India\", and \"Japan\". Print the set and check its data type."
   ]
  },
  {
   "cell_type": "code",
   "execution_count": 13,
   "id": "0ef98d11-828b-4440-982a-27f5f46f9552",
   "metadata": {},
   "outputs": [],
   "source": [
    "# Write your code here\n",
    "\n"
   ]
  },
  {
   "cell_type": "markdown",
   "id": "a0e1dfa8-c81c-4047-9b86-9848a204da17",
   "metadata": {},
   "source": [
    "### Question 10: Create a dictionary named `person` with keys \"name\" and \"age\" and their corresponding values \"Alice\" and 25. Print the dictionary"
   ]
  },
  {
   "cell_type": "code",
   "execution_count": 14,
   "id": "0d109ab6-c855-4c7b-9e28-292ac6ad9737",
   "metadata": {},
   "outputs": [],
   "source": [
    "# Write your code here\n",
    "\n"
   ]
  }
 ],
 "metadata": {
  "kernelspec": {
   "display_name": "Python 3 (ipykernel)",
   "language": "python",
   "name": "python3"
  },
  "language_info": {
   "codemirror_mode": {
    "name": "ipython",
    "version": 3
   },
   "file_extension": ".py",
   "mimetype": "text/x-python",
   "name": "python",
   "nbconvert_exporter": "python",
   "pygments_lexer": "ipython3",
   "version": "3.12.3"
  }
 },
 "nbformat": 4,
 "nbformat_minor": 5
}
